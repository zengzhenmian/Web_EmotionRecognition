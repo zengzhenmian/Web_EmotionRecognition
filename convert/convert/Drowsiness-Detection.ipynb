{
 "cells": [
  {
   "cell_type": "code",
   "execution_count": 1,
   "metadata": {},
   "outputs": [
    {
     "name": "stderr",
     "output_type": "stream",
     "text": [
      "/Users/danyow/.local/share/virtualenvs/emotion-detection-avAA3HUE/lib/python3.9/site-packages/tqdm/auto.py:22: TqdmWarning: IProgress not found. Please update jupyter and ipywidgets. See https://ipywidgets.readthedocs.io/en/stable/user_install.html\n",
      "  from .autonotebook import tqdm as notebook_tqdm\n"
     ]
    },
    {
     "name": "stdout",
     "output_type": "stream",
     "text": [
      "1.8.0\n"
     ]
    }
   ],
   "source": [
    "import torch \n",
    "import matplotlib.pyplot as plt \n",
    "import numpy as np\n",
    "import cv2\n",
    "print(torch.__version__)"
   ]
  },
  {
   "cell_type": "code",
   "execution_count": 2,
   "metadata": {},
   "outputs": [
    {
     "name": "stderr",
     "output_type": "stream",
     "text": [
      "Using cache found in /Users/danyow/.cache/torch/hub/ultralytics_yolov5_master\n",
      "YOLOv5 🚀 2022-6-15 Python-3.9.2 torch-1.8.0 CPU\n",
      "\n",
      "Fusing layers... \n",
      "YOLOv5s summary: 213 layers, 7225885 parameters, 0 gradients\n",
      "Adding AutoShape... \n"
     ]
    }
   ],
   "source": [
    "model = torch.hub.load('ultralytics/yolov5', 'yolov5s')"
   ]
  },
  {
   "cell_type": "code",
   "execution_count": 3,
   "metadata": {},
   "outputs": [],
   "source": [
    "# # cap = cv2.VideoCapture(0)\n",
    "# cap= cv2.VideoCapture(\"Pedestrian.mp4\")\n",
    "# while cap.isOpened():\n",
    "#     ret, frame = cap.read()\n",
    "    \n",
    "#     #进行检测\n",
    "#     results = model(frame)\n",
    "    \n",
    "#     cv2.imshow('YOLO', np.squeeze(results.render()))\n",
    "    \n",
    "#     if cv2.waitKey(10) & 0xFF == ord('q'):\n",
    "#         break\n",
    "# cap.release()\n",
    "# cv2.destroyAllWindows()"
   ]
  },
  {
   "cell_type": "markdown",
   "metadata": {},
   "source": [
    "# 训练"
   ]
  },
  {
   "cell_type": "code",
   "execution_count": 4,
   "metadata": {},
   "outputs": [],
   "source": [
    "import os \n",
    "import cv2 \n"
   ]
  },
  {
   "cell_type": "code",
   "execution_count": 5,
   "metadata": {},
   "outputs": [],
   "source": [
    "# IMAGE_PATH = os.path.join(\"data/emo\",\"images\")\n",
    "# labels= [\"happy\",\"sad\"]\n",
    "# number_imgs = 20\n"
   ]
  },
  {
   "cell_type": "code",
   "execution_count": 6,
   "metadata": {},
   "outputs": [],
   "source": [
    "# cap = cv2.VideoCapture(0)\n",
    "# # 类别之间的循环\n",
    "# for label in labels:\n",
    "#     print(\"collecting images for {}\".format(label))\n",
    "#     time.sleep(5)\n",
    "#     # 图像之间的循环\n",
    "#     for img_num in range(number_imgs):\n",
    "\n",
    "#         print(\"collecting images for {},image number{}\".format(label,img_num))\n",
    "\n",
    "#         # 摄像头捕捉数据\n",
    "#         ret,frame = cap.read()\n",
    "\n",
    "#         #为图片文件取名\n",
    "#         imgname = os.path.join(IMAGE_PATH, label+'.'+str(uuid.uuid1())+'.jpg')\n",
    "        \n",
    "#         # 将图片写入文件 \n",
    "#         cv2.imwrite(imgname, frame)\n",
    "        \n",
    "#         # 渲染屏幕\n",
    "#         cv2.imshow('Image Collection', frame)\n",
    "        \n",
    "#         # 每次捕获间隔两秒\n",
    "#         time.sleep(2)\n",
    "        \n",
    "#         if cv2.waitKey(10) & 0xFF == ord('q'):\n",
    "#             break\n",
    "\n",
    "# cap.release()\n",
    "# cv2.destroyAllWindows()"
   ]
  },
  {
   "cell_type": "code",
   "execution_count": 7,
   "metadata": {},
   "outputs": [
    {
     "name": "stdout",
     "output_type": "stream",
     "text": [
      "\u001b[34m\u001b[1mtrain: \u001b[0mweights=yolov5s.pt, cfg=, data=dataset.yaml, hyp=data/hyps/hyp.scratch-low.yaml, epochs=25, batch_size=16, imgsz=320, rect=False, resume=False, nosave=False, noval=False, noautoanchor=False, noplots=False, evolve=None, bucket=, cache=None, image_weights=False, device=, multi_scale=False, single_cls=False, optimizer=SGD, sync_bn=False, workers=8, project=runs/train, name=exp, exist_ok=False, quad=False, cos_lr=False, label_smoothing=0.0, patience=100, freeze=[0], save_period=-1, local_rank=-1, entity=None, upload_dataset=False, bbox_interval=-1, artifact_alias=latest\n",
      "\u001b[34m\u001b[1mgithub: \u001b[0m⚠️ YOLOv5 is out of date by 1 commit. Use `git pull` or `git clone https://github.com/ultralytics/yolov5` to update.\n",
      "YOLOv5 🚀 v6.1-252-g6a67594 Python-3.9.2 torch-1.8.0 CPU\n",
      "\n",
      "\u001b[34m\u001b[1mhyperparameters: \u001b[0mlr0=0.01, lrf=0.01, momentum=0.937, weight_decay=0.0005, warmup_epochs=3.0, warmup_momentum=0.8, warmup_bias_lr=0.1, box=0.05, cls=0.5, cls_pw=1.0, obj=1.0, obj_pw=1.0, iou_t=0.2, anchor_t=4.0, fl_gamma=0.0, hsv_h=0.015, hsv_s=0.7, hsv_v=0.4, degrees=0.0, translate=0.1, scale=0.5, shear=0.0, perspective=0.0, flipud=0.0, fliplr=0.5, mosaic=1.0, mixup=0.0, copy_paste=0.0\n",
      "\u001b[34m\u001b[1mWeights & Biases: \u001b[0mrun 'pip install wandb' to automatically track and visualize YOLOv5 🚀 runs (RECOMMENDED)\n",
      "\u001b[34m\u001b[1mTensorBoard: \u001b[0mStart with 'tensorboard --logdir runs/train', view at http://localhost:6006/\n",
      "Overriding model.yaml nc=80 with nc=2\n",
      "\n",
      "                 from  n    params  module                                  arguments                     \n",
      "  0                -1  1      3520  models.common.Conv                      [3, 32, 6, 2, 2]              \n",
      "  1                -1  1     18560  models.common.Conv                      [32, 64, 3, 2]                \n",
      "  2                -1  1     18816  models.common.C3                        [64, 64, 1]                   \n",
      "  3                -1  1     73984  models.common.Conv                      [64, 128, 3, 2]               \n",
      "  4                -1  2    115712  models.common.C3                        [128, 128, 2]                 \n",
      "  5                -1  1    295424  models.common.Conv                      [128, 256, 3, 2]              \n",
      "  6                -1  3    625152  models.common.C3                        [256, 256, 3]                 \n",
      "  7                -1  1   1180672  models.common.Conv                      [256, 512, 3, 2]              \n",
      "  8                -1  1   1182720  models.common.C3                        [512, 512, 1]                 \n",
      "  9                -1  1    656896  models.common.SPPF                      [512, 512, 5]                 \n",
      " 10                -1  1    131584  models.common.Conv                      [512, 256, 1, 1]              \n",
      " 11                -1  1         0  torch.nn.modules.upsampling.Upsample    [None, 2, 'nearest']          \n",
      " 12           [-1, 6]  1         0  models.common.Concat                    [1]                           \n",
      " 13                -1  1    361984  models.common.C3                        [512, 256, 1, False]          \n",
      " 14                -1  1     33024  models.common.Conv                      [256, 128, 1, 1]              \n",
      " 15                -1  1         0  torch.nn.modules.upsampling.Upsample    [None, 2, 'nearest']          \n",
      " 16           [-1, 4]  1         0  models.common.Concat                    [1]                           \n",
      " 17                -1  1     90880  models.common.C3                        [256, 128, 1, False]          \n",
      " 18                -1  1    147712  models.common.Conv                      [128, 128, 3, 2]              \n",
      " 19          [-1, 14]  1         0  models.common.Concat                    [1]                           \n",
      " 20                -1  1    296448  models.common.C3                        [256, 256, 1, False]          \n",
      " 21                -1  1    590336  models.common.Conv                      [256, 256, 3, 2]              \n",
      " 22          [-1, 10]  1         0  models.common.Concat                    [1]                           \n",
      " 23                -1  1   1182720  models.common.C3                        [512, 512, 1, False]          \n",
      " 24      [17, 20, 23]  1     18879  models.yolo.Detect                      [2, [[10, 13, 16, 30, 33, 23], [30, 61, 62, 45, 59, 119], [116, 90, 156, 198, 373, 326]], [128, 256, 512]]\n",
      "Model summary: 270 layers, 7025023 parameters, 7025023 gradients\n",
      "\n",
      "Transferred 343/349 items from yolov5s.pt\n",
      "Scaled weight_decay = 0.0005\n",
      "\u001b[34m\u001b[1moptimizer:\u001b[0m SGD with parameter groups 57 weight (no decay), 60 weight, 60 bias\n",
      "\u001b[34m\u001b[1mtrain: \u001b[0mScanning '/Users/danyow/code/project/emotion-detection/data/emo/labels.ca\u001b[0m\n",
      "\u001b[34m\u001b[1mval: \u001b[0mScanning '/Users/danyow/code/project/emotion-detection/data/emo/labels.cach\u001b[0m\n",
      "Plotting labels to runs/train/exp13/labels.jpg... \n",
      "\n",
      "\u001b[34m\u001b[1mAutoAnchor: \u001b[0m5.65 anchors/target, 1.000 Best Possible Recall (BPR). Current anchors are a good fit to dataset ✅\n",
      "Image sizes 320 train, 320 val\n",
      "Using 8 dataloader workers\n",
      "Logging results to \u001b[1mruns/train/exp13\u001b[0m\n",
      "Starting training for 25 epochs...\n",
      "\n",
      "     Epoch   gpu_mem       box       obj       cls    labels  img_size\n",
      "      0/24        0G    0.1219   0.01278   0.03006        21       320: 100%|███\n",
      "               Class     Images     Labels          P          R     mAP@.5 mAP@WARNING: NMS time limit 1.260s exceeded\n",
      "               Class     Images     Labels          P          R     mAP@.5 mAP@WARNING: NMS time limit 1.140s exceeded\n",
      "               Class     Images     Labels          P          R     mAP@.5 mAP@\n",
      "                 all         60         49    0.00133        0.4     0.0019   0.000296\n",
      "\n",
      "     Epoch   gpu_mem       box       obj       cls    labels  img_size\n",
      "      1/24        0G    0.1176   0.01436   0.03054        20       320: 100%|███\n",
      "               Class     Images     Labels          P          R     mAP@.5 mAP@WARNING: NMS time limit 1.260s exceeded\n",
      "               Class     Images     Labels          P          R     mAP@.5 mAP@WARNING: NMS time limit 1.140s exceeded\n",
      "               Class     Images     Labels          P          R     mAP@.5 mAP@\n",
      "                 all         60         55    0.00155      0.457    0.00144   0.000271\n",
      "\n",
      "     Epoch   gpu_mem       box       obj       cls    labels  img_size\n",
      "      2/24        0G    0.1079   0.01599   0.03001        18       320: 100%|███\n",
      "               Class     Images     Labels          P          R     mAP@.5 mAP@WARNING: NMS time limit 1.260s exceeded\n",
      "               Class     Images     Labels          P          R     mAP@.5 mAP@WARNING: NMS time limit 1.140s exceeded\n",
      "               Class     Images     Labels          P          R     mAP@.5 mAP@\n",
      "                 all         60         49     0.0017       0.51    0.00149   0.000274\n",
      "\n",
      "     Epoch   gpu_mem       box       obj       cls    labels  img_size\n",
      "      3/24        0G   0.09687   0.01858   0.02965        22       320: 100%|███\n",
      "               Class     Images     Labels          P          R     mAP@.5 mAP@WARNING: NMS time limit 1.260s exceeded\n",
      "               Class     Images     Labels          P          R     mAP@.5 mAP@WARNING: NMS time limit 1.140s exceeded\n",
      "               Class     Images     Labels          P          R     mAP@.5 mAP@\n",
      "                 all         60         57     0.0022      0.661    0.00225   0.000446\n",
      "\n",
      "     Epoch   gpu_mem       box       obj       cls    labels  img_size\n",
      "      4/24        0G   0.09033    0.0205   0.02916        24       320: 100%|███\n",
      "               Class     Images     Labels          P          R     mAP@.5 mAP@WARNING: NMS time limit 1.260s exceeded\n",
      "               Class     Images     Labels          P          R     mAP@.5 mAP@WARNING: NMS time limit 1.140s exceeded\n",
      "               Class     Images     Labels          P          R     mAP@.5 mAP@\n",
      "                 all         60         54    0.00266        0.8     0.0062    0.00116\n",
      "\n",
      "     Epoch   gpu_mem       box       obj       cls    labels  img_size\n",
      "      5/24        0G   0.08386   0.02202   0.02782        24       320: 100%|███\n",
      "               Class     Images     Labels          P          R     mAP@.5 mAP@WARNING: NMS time limit 1.260s exceeded\n",
      "               Class     Images     Labels          P          R     mAP@.5 mAP@WARNING: NMS time limit 1.140s exceeded\n",
      "               Class     Images     Labels          P          R     mAP@.5 mAP@\n",
      "                 all         60         53     0.0279      0.588     0.0618    0.00853\n",
      "\n",
      "     Epoch   gpu_mem       box       obj       cls    labels  img_size\n",
      "      6/24        0G   0.07767    0.0208   0.02721        20       320: 100%|███\n",
      "               Class     Images     Labels          P          R     mAP@.5 mAP@WARNING: NMS time limit 1.260s exceeded\n",
      "               Class     Images     Labels          P          R     mAP@.5 mAP@WARNING: NMS time limit 1.140s exceeded\n",
      "               Class     Images     Labels          P          R     mAP@.5 mAP@\n",
      "                 all         60         58    0.00326       0.98     0.0293    0.00673\n",
      "\n",
      "     Epoch   gpu_mem       box       obj       cls    labels  img_size\n",
      "      7/24        0G   0.07471   0.02402   0.02694        24       320: 100%|███\n",
      "               Class     Images     Labels          P          R     mAP@.5 mAP@WARNING: NMS time limit 1.260s exceeded\n",
      "               Class     Images     Labels          P          R     mAP@.5 mAP@WARNING: NMS time limit 1.140s exceeded\n",
      "               Class     Images     Labels          P          R     mAP@.5 mAP@\n",
      "                 all         60         48     0.0563      0.521      0.114      0.024\n",
      "\n",
      "     Epoch   gpu_mem       box       obj       cls    labels  img_size\n",
      "      8/24        0G   0.07243   0.02214   0.02577        20       320: 100%|███\n",
      "               Class     Images     Labels          P          R     mAP@.5 mAP@WARNING: NMS time limit 1.260s exceeded\n",
      "               Class     Images     Labels          P          R     mAP@.5 mAP@\n",
      "                 all         60         60      0.044      0.631     0.0681     0.0313\n",
      "\n",
      "     Epoch   gpu_mem       box       obj       cls    labels  img_size\n",
      "      9/24        0G   0.07164   0.02261   0.02594        24       320: 100%|███\n",
      "               Class     Images     Labels          P          R     mAP@.5 mAP@WARNING: NMS time limit 1.260s exceeded\n",
      "               Class     Images     Labels          P          R     mAP@.5 mAP@\n",
      "                 all         60         59      0.135      0.125      0.139     0.0754\n",
      "\n",
      "     Epoch   gpu_mem       box       obj       cls    labels  img_size\n",
      "     10/24        0G   0.06679   0.02138   0.02517        23       320: 100%|███\n",
      "               Class     Images     Labels          P          R     mAP@.5 mAP@\n",
      "                 all         60         60      0.109      0.134       0.12     0.0569\n",
      "\n",
      "     Epoch   gpu_mem       box       obj       cls    labels  img_size\n",
      "     11/24        0G   0.06461   0.02132   0.02518        26       320: 100%|███\n",
      "               Class     Images     Labels          P          R     mAP@.5 mAP@\n",
      "                 all         60         60       0.35      0.424      0.342      0.162\n",
      "\n",
      "     Epoch   gpu_mem       box       obj       cls    labels  img_size\n",
      "     12/24        0G   0.05944   0.02057   0.02555        14       320: 100%|███\n",
      "               Class     Images     Labels          P          R     mAP@.5 mAP@\n",
      "                 all         60         60      0.313      0.696      0.401      0.114\n",
      "\n",
      "     Epoch   gpu_mem       box       obj       cls    labels  img_size\n",
      "     13/24        0G   0.06412   0.01861   0.02514        22       320: 100%|███\n",
      "               Class     Images     Labels          P          R     mAP@.5 mAP@\n",
      "                 all         60         60      0.433      0.747      0.576      0.331\n",
      "\n",
      "     Epoch   gpu_mem       box       obj       cls    labels  img_size\n",
      "     14/24        0G   0.06226   0.02018   0.02395        22       320: 100%|███\n",
      "               Class     Images     Labels          P          R     mAP@.5 mAP@\n",
      "                 all         60         60      0.339      0.817      0.568      0.159\n",
      "\n",
      "     Epoch   gpu_mem       box       obj       cls    labels  img_size\n",
      "     15/24        0G   0.07556   0.01778   0.02655        27       320: 100%|███\n",
      "               Class     Images     Labels          P          R     mAP@.5 mAP@\n",
      "                 all         60         60      0.181      0.535      0.182      0.096\n",
      "\n",
      "     Epoch   gpu_mem       box       obj       cls    labels  img_size\n",
      "     16/24        0G    0.0838   0.01559   0.02499        21       320: 100%|███\n",
      "               Class     Images     Labels          P          R     mAP@.5 mAP@\n",
      "                 all         60         60      0.269      0.613      0.254     0.0995\n",
      "\n",
      "     Epoch   gpu_mem       box       obj       cls    labels  img_size\n",
      "     17/24        0G   0.07998   0.01565   0.02471        15       320: 100%|███\n",
      "               Class     Images     Labels          P          R     mAP@.5 mAP@\n",
      "                 all         60         60      0.175       0.42      0.207     0.0749\n",
      "\n",
      "     Epoch   gpu_mem       box       obj       cls    labels  img_size\n",
      "     18/24        0G   0.06845   0.01537   0.02452        22       320: 100%|███\n",
      "               Class     Images     Labels          P          R     mAP@.5 mAP@\n",
      "                 all         60         60      0.439      0.587      0.546      0.197\n",
      "\n",
      "     Epoch   gpu_mem       box       obj       cls    labels  img_size\n",
      "     19/24        0G   0.06183   0.01751   0.02538        14       320: 100%|███\n",
      "               Class     Images     Labels          P          R     mAP@.5 mAP@\n",
      "                 all         60         60      0.442      0.614      0.587       0.34\n",
      "\n",
      "     Epoch   gpu_mem       box       obj       cls    labels  img_size\n",
      "     20/24        0G   0.05932   0.02108   0.02403        22       320: 100%|███\n",
      "               Class     Images     Labels          P          R     mAP@.5 mAP@\n",
      "                 all         60         60      0.422      0.639      0.632      0.354\n",
      "\n",
      "     Epoch   gpu_mem       box       obj       cls    labels  img_size\n",
      "     21/24        0G    0.0525   0.01649   0.02356        13       320: 100%|███\n",
      "               Class     Images     Labels          P          R     mAP@.5 mAP@\n",
      "                 all         60         60      0.313      0.776      0.577      0.249\n",
      "\n",
      "     Epoch   gpu_mem       box       obj       cls    labels  img_size\n",
      "     22/24        0G   0.05051   0.01835   0.02406        20       320: 100%|███\n",
      "               Class     Images     Labels          P          R     mAP@.5 mAP@\n",
      "                 all         60         60      0.341      0.812      0.593      0.258\n",
      "\n",
      "     Epoch   gpu_mem       box       obj       cls    labels  img_size\n",
      "     23/24        0G   0.04719   0.02106    0.0225        23       320: 100%|███\n",
      "               Class     Images     Labels          P          R     mAP@.5 mAP@\n",
      "                 all         60         60      0.359      0.849       0.59      0.305\n",
      "\n",
      "     Epoch   gpu_mem       box       obj       cls    labels  img_size\n",
      "     24/24        0G   0.04397    0.0204   0.02201        19       320: 100%|███\n",
      "               Class     Images     Labels          P          R     mAP@.5 mAP@\n",
      "                 all         60         60      0.368      0.908      0.588      0.306\n",
      "\n",
      "25 epochs completed in 0.102 hours.\n",
      "Optimizer stripped from runs/train/exp13/weights/last.pt, 14.3MB\n",
      "Optimizer stripped from runs/train/exp13/weights/best.pt, 14.3MB\n",
      "\n",
      "Validating runs/train/exp13/weights/best.pt...\n",
      "Fusing layers... \n",
      "Model summary: 213 layers, 7015519 parameters, 0 gradients\n",
      "               Class     Images     Labels          P          R     mAP@.5 mAP@\n",
      "                 all         60         60      0.421      0.639      0.632      0.354\n",
      "               happy         60         34      0.571      0.971      0.827      0.467\n",
      "                 sad         60         26      0.271      0.308      0.436      0.242\n",
      "Results saved to \u001b[1mruns/train/exp13\u001b[0m\n"
     ]
    }
   ],
   "source": [
    "# Train YOLOv5s on COCO128 for 3 epochs\n",
    "!cd yolov5 && python3 train.py --img 320 --batch 16 --epochs 25 --data dataset.yaml --weights yolov5s.pt "
   ]
  },
  {
   "cell_type": "code",
   "execution_count": null,
   "metadata": {},
   "outputs": [],
   "source": [
    "# !cd yolov5 && python3 detect.py --source /content/drive/MyDrive/face_mask_detection/face_data/test --weights /content/yolov5/runs/train/exp/weights/last.pt --img 416 --save-txt --save-conf"
   ]
  },
  {
   "cell_type": "code",
   "execution_count": 28,
   "metadata": {},
   "outputs": [
    {
     "name": "stderr",
     "output_type": "stream",
     "text": [
      "YOLOv5 🚀 2022-6-15 Python-3.9.2 torch-1.8.0 CPU\n",
      "\n",
      "Fusing layers... \n",
      "Model summary: 213 layers, 7015519 parameters, 0 gradients\n",
      "Adding AutoShape... \n"
     ]
    }
   ],
   "source": [
    "model = torch.hub.load('yolov5', 'custom', path='yolov5/runs/train/exp13/weights/last.pt', source=\"local\",force_reload=True)"
   ]
  },
  {
   "cell_type": "code",
   "execution_count": 29,
   "metadata": {},
   "outputs": [],
   "source": [
    "img = os.path.join('data/emo', 'test/images', 'happy-d0df666c-eb8e-11ec-81f1-acde48001122_jpg.rf.8c1d95d4903aaa819934ce6b25bad6ee.jpg')\n"
   ]
  },
  {
   "cell_type": "code",
   "execution_count": 42,
   "metadata": {},
   "outputs": [],
   "source": [
    "results = model(img)"
   ]
  },
  {
   "cell_type": "code",
   "execution_count": 44,
   "metadata": {},
   "outputs": [
    {
     "name": "stdout",
     "output_type": "stream",
     "text": [
      "image 1/1: 416x416 1 happy\n",
      "Speed: 12.2ms pre-process, 209.0ms inference, 0.8ms NMS per image at shape (1, 3, 640, 640)\n"
     ]
    },
    {
     "data": {
      "image/png": "[encoded data removed]",
      "text/plain": [
       "<Figure size 432x288 with 1 Axes>"
      ]
     },
     "metadata": {
      "needs_background": "light"
     },
     "output_type": "display_data"
    }
   ],
   "source": [
    "results.print()\n",
    "%matplotlib inline \n",
    "plt.imshow(np.squeeze(results.render()))\n",
    "plt.show()"
   ]
  },
  {
   "cell_type": "code",
   "execution_count": 41,
   "metadata": {},
   "outputs": [
    {
     "name": "stdout",
     "output_type": "stream",
     "text": [
      "image 1/1: 720x1280 (no detections)\n",
      "Speed: 4.9ms pre-process, 117.4ms inference, 0.5ms NMS per image at shape (1, 3, 384, 640)\n",
      "None\n",
      "image 1/1: 720x1280 1 happy\n",
      "Speed: 4.4ms pre-process, 119.2ms inference, 0.7ms NMS per image at shape (1, 3, 384, 640)\n",
      "None\n",
      "image 1/1: 720x1280 1 happy\n",
      "Speed: 3.4ms pre-process, 113.2ms inference, 0.9ms NMS per image at shape (1, 3, 384, 640)\n",
      "None\n",
      "image 1/1: 720x1280 (no detections)\n",
      "Speed: 3.4ms pre-process, 111.0ms inference, 0.4ms NMS per image at shape (1, 3, 384, 640)\n",
      "None\n",
      "image 1/1: 720x1280 (no detections)\n",
      "Speed: 2.7ms pre-process, 109.8ms inference, 0.8ms NMS per image at shape (1, 3, 384, 640)\n",
      "None\n",
      "image 1/1: 720x1280 (no detections)\n",
      "Speed: 3.2ms pre-process, 103.2ms inference, 0.8ms NMS per image at shape (1, 3, 384, 640)\n",
      "None\n",
      "image 1/1: 720x1280 (no detections)\n",
      "Speed: 2.8ms pre-process, 109.8ms inference, 0.5ms NMS per image at shape (1, 3, 384, 640)\n",
      "None\n",
      "image 1/1: 720x1280 (no detections)\n",
      "Speed: 3.2ms pre-process, 103.2ms inference, 0.5ms NMS per image at shape (1, 3, 384, 640)\n",
      "None\n",
      "image 1/1: 720x1280 (no detections)\n",
      "Speed: 2.7ms pre-process, 108.8ms inference, 0.5ms NMS per image at shape (1, 3, 384, 640)\n",
      "None\n",
      "image 1/1: 720x1280 (no detections)\n",
      "Speed: 3.2ms pre-process, 102.2ms inference, 0.6ms NMS per image at shape (1, 3, 384, 640)\n",
      "None\n",
      "image 1/1: 720x1280 (no detections)\n",
      "Speed: 3.0ms pre-process, 107.6ms inference, 0.6ms NMS per image at shape (1, 3, 384, 640)\n",
      "None\n",
      "image 1/1: 720x1280 (no detections)\n",
      "Speed: 3.1ms pre-process, 101.6ms inference, 0.4ms NMS per image at shape (1, 3, 384, 640)\n",
      "None\n",
      "image 1/1: 720x1280 (no detections)\n",
      "Speed: 2.8ms pre-process, 105.8ms inference, 0.4ms NMS per image at shape (1, 3, 384, 640)\n",
      "None\n",
      "image 1/1: 720x1280 1 happy\n",
      "Speed: 3.1ms pre-process, 103.4ms inference, 0.7ms NMS per image at shape (1, 3, 384, 640)\n",
      "None\n",
      "image 1/1: 720x1280 (no detections)\n",
      "Speed: 2.7ms pre-process, 105.4ms inference, 0.6ms NMS per image at shape (1, 3, 384, 640)\n",
      "None\n",
      "image 1/1: 720x1280 (no detections)\n",
      "Speed: 3.2ms pre-process, 103.5ms inference, 0.6ms NMS per image at shape (1, 3, 384, 640)\n",
      "None\n",
      "image 1/1: 720x1280 (no detections)\n",
      "Speed: 3.0ms pre-process, 106.7ms inference, 0.5ms NMS per image at shape (1, 3, 384, 640)\n",
      "None\n",
      "image 1/1: 720x1280 (no detections)\n",
      "Speed: 3.1ms pre-process, 103.2ms inference, 0.4ms NMS per image at shape (1, 3, 384, 640)\n",
      "None\n",
      "image 1/1: 720x1280 (no detections)\n",
      "Speed: 2.8ms pre-process, 107.6ms inference, 0.5ms NMS per image at shape (1, 3, 384, 640)\n",
      "None\n",
      "image 1/1: 720x1280 (no detections)\n",
      "Speed: 3.3ms pre-process, 103.0ms inference, 0.4ms NMS per image at shape (1, 3, 384, 640)\n",
      "None\n",
      "image 1/1: 720x1280 (no detections)\n",
      "Speed: 2.9ms pre-process, 104.1ms inference, 0.4ms NMS per image at shape (1, 3, 384, 640)\n",
      "None\n",
      "image 1/1: 720x1280 (no detections)\n",
      "Speed: 3.2ms pre-process, 105.5ms inference, 0.5ms NMS per image at shape (1, 3, 384, 640)\n",
      "None\n",
      "image 1/1: 720x1280 (no detections)\n",
      "Speed: 3.0ms pre-process, 104.7ms inference, 0.4ms NMS per image at shape (1, 3, 384, 640)\n",
      "None\n",
      "image 1/1: 720x1280 (no detections)\n",
      "Speed: 3.2ms pre-process, 100.9ms inference, 0.4ms NMS per image at shape (1, 3, 384, 640)\n",
      "None\n",
      "image 1/1: 720x1280 (no detections)\n",
      "Speed: 2.9ms pre-process, 106.4ms inference, 0.5ms NMS per image at shape (1, 3, 384, 640)\n",
      "None\n",
      "image 1/1: 720x1280 (no detections)\n",
      "Speed: 3.2ms pre-process, 106.3ms inference, 0.5ms NMS per image at shape (1, 3, 384, 640)\n",
      "None\n",
      "image 1/1: 720x1280 (no detections)\n",
      "Speed: 2.9ms pre-process, 105.4ms inference, 0.5ms NMS per image at shape (1, 3, 384, 640)\n",
      "None\n",
      "image 1/1: 720x1280 (no detections)\n",
      "Speed: 3.2ms pre-process, 101.2ms inference, 0.5ms NMS per image at shape (1, 3, 384, 640)\n",
      "None\n"
     ]
    }
   ],
   "source": [
    "cap = cv2.VideoCapture(0)\n",
    "while cap.isOpened():\n",
    "    ret, frame = cap.read()\n",
    "    \n",
    "    # Make detections \n",
    "    results = model(frame)\n",
    "    \n",
    "    cv2.imshow('YOLO', np.squeeze(results.render()))\n",
    "    \n",
    "    if cv2.waitKey(10) & 0xFF == ord('q'):\n",
    "        break\n",
    "    \n",
    "    text = results.print()\n",
    "    print(text)\n",
    "cap.release()\n",
    "cv2.destroyAllWindows()"
   ]
  }
 ],
 "metadata": {
  "kernelspec": {
   "display_name": "Python 3.9.2 ('emotion-detection-avAA3HUE')",
   "language": "python",
   "name": "python3"
  },
  "language_info": {
   "codemirror_mode": {
    "name": "ipython",
    "version": 3
   },
   "file_extension": ".py",
   "mimetype": "text/x-python",
   "name": "python",
   "nbconvert_exporter": "python",
   "pygments_lexer": "ipython3",
   "version": "3.9.2"
  },
  "orig_nbformat": 4,
  "vscode": {
   "interpreter": {
    "hash": "2eb7adb6b73a2251053b3e27ed14ac2733937ddf6786de8e42232aae8989b093"
   }
  }
 },
 "nbformat": 4,
 "nbformat_minor": 2
}
